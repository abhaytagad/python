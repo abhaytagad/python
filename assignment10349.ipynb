{
 "cells": [
  {
   "cell_type": "code",
   "execution_count": 4,
   "id": "3d7484af",
   "metadata": {},
   "outputs": [
    {
     "name": "stdout",
     "output_type": "stream",
     "text": [
      " Name:ABHAY \n",
      " Father name:SHIVAJI \n",
      " Mother name:JAYASHRI \n",
      " Roll no: 10349 \n",
      " Branch: computer engineering \n",
      " Contact no: 9021524609 \n",
      " Email ID: omshiv09.ani@gmail.com\n"
     ]
    }
   ],
   "source": [
    "print(\" Name:ABHAY \\n Father name:SHIVAJI \\n Mother name:JAYASHRI \\n Roll no: 10349 \\n Branch: computer engineering \\n Contact no: 9021524609 \\n Email ID: omshiv09.ani@gmail.com\")"
   ]
  },
  {
   "cell_type": "code",
   "execution_count": 6,
   "id": "0801baa9",
   "metadata": {},
   "outputs": [
    {
     "name": "stdout",
     "output_type": "stream",
     "text": [
      "     my hobby is piaying football.\n",
      " as it is most playing game in world .\n",
      " recently argentina won the Fifa world cup \n"
     ]
    }
   ],
   "source": [
    "print(\"     my hobby is piaying football.\\n as it is most playing game in world .\\n recently argentina won the Fifa world cup \")"
   ]
  },
  {
   "cell_type": "code",
   "execution_count": 16,
   "id": "4779f3c4",
   "metadata": {},
   "outputs": [
    {
     "name": "stdout",
     "output_type": "stream",
     "text": [
      " **   ****  *   *   **  *   *\n",
      "*  *  *  *  *   *  *  *  * *\n",
      "****  ****  *****  ****   *\n",
      "*  *  *  *  *   *  *  *   *\n",
      "*  *  ****  *   *  *  *   *\n"
     ]
    }
   ],
   "source": [
    "print(\" **   ****  *   *   **  *   *\")\n",
    "print(\"*  *  *  *  *   *  *  *  * *\")\n",
    "print(\"****  ****  *****  ****   *\")\n",
    "print(\"*  *  *  *  *   *  *  *   *\")\n",
    "print(\"*  *  ****  *   *  *  *   *\")"
   ]
  },
  {
   "cell_type": "code",
   "execution_count": 17,
   "id": "9c329b5a",
   "metadata": {},
   "outputs": [
    {
     "name": "stdout",
     "output_type": "stream",
     "text": [
      "    *\n",
      "   * *\n",
      "  * * * \n",
      " * * * *\n",
      "  * * *\n",
      "   * *\n",
      "    *\n"
     ]
    }
   ],
   "source": [
    "print(\"    *\")\n",
    "print(\"   * *\")\n",
    "print(\"  * * * \")\n",
    "print(\" * * * *\")\n",
    "print(\"  * * *\")\n",
    "print(\"   * *\")\n",
    "print(\"    *\")\n"
   ]
  },
  {
   "cell_type": "code",
   "execution_count": 22,
   "id": "b04961c6",
   "metadata": {},
   "outputs": [
    {
     "name": "stdout",
     "output_type": "stream",
     "text": [
      "          **     **\n",
      "        *   *  *    *\n",
      "       *      *      *\n",
      "       *             *\n",
      "       *             *\n",
      "        *           *\n",
      "         *         * \n",
      "          *       *\n",
      "           *     *  \n",
      "            *   * \n",
      "              *\n"
     ]
    }
   ],
   "source": [
    "print(\"          **     **\")\n",
    "print(\"        *   *  *    *\")\n",
    "print(\"       *      *      *\")\n",
    "print(\"       *             *\")\n",
    "print(\"       *             *\")\n",
    "print(\"        *           *\")\n",
    "print(\"         *         * \")\n",
    "print(\"          *       *\")\n",
    "print(\"           *     *  \")\n",
    "print(\"            *   * \")\n",
    "print(\"              *\")"
   ]
  },
  {
   "cell_type": "code",
   "execution_count": null,
   "id": "a0c9bce4",
   "metadata": {},
   "outputs": [],
   "source": []
  }
 ],
 "metadata": {
  "kernelspec": {
   "display_name": "Python 3 (ipykernel)",
   "language": "python",
   "name": "python3"
  },
  "language_info": {
   "codemirror_mode": {
    "name": "ipython",
    "version": 3
   },
   "file_extension": ".py",
   "mimetype": "text/x-python",
   "name": "python",
   "nbconvert_exporter": "python",
   "pygments_lexer": "ipython3",
   "version": "3.10.9"
  }
 },
 "nbformat": 4,
 "nbformat_minor": 5
}
